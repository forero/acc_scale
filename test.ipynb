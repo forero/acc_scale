{
 "cells": [
  {
   "cell_type": "code",
   "execution_count": 53,
   "metadata": {},
   "outputs": [],
   "source": [
    "import numpy as np\n",
    "from astropy import units as u \n",
    "from astropy import constants as c\n",
    "import matplotlib.pyplot as plt\n",
    "import astropy.cosmology as cosmo"
   ]
  },
  {
   "cell_type": "code",
   "execution_count": 57,
   "metadata": {},
   "outputs": [
    {
     "data": {
      "text/latex": [
       "$1.056602 \\times 10^{-29} \\; \\mathrm{\\frac{g}{cm^{3}}}$"
      ],
      "text/plain": [
       "<Quantity 1.05660199e-29 g / cm3>"
      ]
     },
     "execution_count": 57,
     "metadata": {},
     "output_type": "execute_result"
    }
   ],
   "source": [
    "lcdm = cosmo.LambdaCDM(H0=75, Om0=0.25, Ode0=0.75)\n",
    "lcdm.critical_density(0.0)"
   ]
  },
  {
   "cell_type": "code",
   "execution_count": 16,
   "metadata": {},
   "outputs": [],
   "source": [
    "a = 1.20E-10 * u.m / (u.s * u.s)"
   ]
  },
  {
   "cell_type": "code",
   "execution_count": 17,
   "metadata": {},
   "outputs": [],
   "source": [
    "M = np.logspace(8,14) * u.M_sun"
   ]
  },
  {
   "cell_type": "code",
   "execution_count": 18,
   "metadata": {},
   "outputs": [],
   "source": [
    "R = np.sqrt(c.G * M/a)"
   ]
  },
  {
   "cell_type": "code",
   "execution_count": 19,
   "metadata": {},
   "outputs": [
    {
     "data": {
      "text/latex": [
       "$[340.81182,~392.40916,~451.8181,~520.22129,~598.9804,~689.66327,~794.07512,~914.29444,~1052.7144,~1212.0905,~1395.5955,~1606.8822,~1850.1568,~2130.262,~2452.7738,~2824.1125,~3251.6702,~3743.9581,~4310.7761,~4963.4078,~5714.8449,~6580.0461,~7576.2348,~8723.2419,~10043.901,~11564.501,~13315.313,~15331.19,~17652.262,~20324.733,~23401.804,~26944.73,~31024.038,~35720.935,~41128.92,~47355.649,~54525.076,~62779.922,~72284.513,~83228.056,~95828.401,~110336.38,~127040.8,~146274.19,~168419.43,~193917.36,~223275.56,~257078.45,~295998.94,~340811.82] \\; \\mathrm{pc}$"
      ],
      "text/plain": [
       "<Quantity [   340.8118202 ,    392.40916181,    451.81810357,\n",
       "              520.22128578,    598.98039508,    689.66327118,\n",
       "              794.07511752,    914.29443703,   1052.71440843,\n",
       "             1212.09052667,   1395.59545597,   1606.88218733,\n",
       "             1850.15675775,   2130.26197891,   2452.77384187,\n",
       "             2824.11251712,   3251.67015939,   3743.95806165,\n",
       "             4310.77608746,   4963.40775463,   5714.84485366,\n",
       "             6580.04607237,   7576.23477508,   8723.24186424,\n",
       "            10043.9005497 ,  11564.50088422,  13315.3131136 ,\n",
       "            15331.19025959,  17652.26193109,  20324.73317516,\n",
       "            23401.80427042,  26944.72977289,  31024.0378966 ,\n",
       "            35720.93450268,  41128.91964603,  47355.6488597 ,\n",
       "            54525.07622918,  62779.9219182 ,  72284.51326669,\n",
       "            83228.05601782,  95828.4007938 , 110336.37979879,\n",
       "           127040.80007867, 146274.19273733, 168419.43255795,\n",
       "           193917.35980439, 223275.55592831, 257078.44787791,\n",
       "           295998.94215261, 340811.82020001] pc>"
      ]
     },
     "execution_count": 19,
     "metadata": {},
     "output_type": "execute_result"
    }
   ],
   "source": [
    "R.to(u.pc)"
   ]
  },
  {
   "cell_type": "code",
   "execution_count": 25,
   "metadata": {},
   "outputs": [
    {
     "data": {
      "text/plain": [
       "[]"
      ]
     },
     "execution_count": 25,
     "metadata": {},
     "output_type": "execute_result"
    },
    {
     "data": {
      "image/png": "[encoded data removed]",
      "text/plain": [
       "<Figure size 432x288 with 1 Axes>"
      ]
     },
     "metadata": {},
     "output_type": "display_data"
    }
   ],
   "source": [
    "plt.plot(M, R/1E6)\n",
    "plt.loglog()"
   ]
  },
  {
   "cell_type": "code",
   "execution_count": 39,
   "metadata": {},
   "outputs": [],
   "source": [
    "tau = np.sqrt(1.0/(c.G * (M/R**3)))"
   ]
  },
  {
   "cell_type": "code",
   "execution_count": 64,
   "metadata": {},
   "outputs": [],
   "source": [
    "tau = tau.to(u.yr)"
   ]
  },
  {
   "cell_type": "code",
   "execution_count": 52,
   "metadata": {},
   "outputs": [
    {
     "data": {
      "text/plain": [
       "[]"
      ]
     },
     "execution_count": 52,
     "metadata": {},
     "output_type": "execute_result"
    },
    {
     "data": {
      "image/png": "[encoded data removed]",
      "text/plain": [
       "<Figure size 432x288 with 1 Axes>"
      ]
     },
     "metadata": {},
     "output_type": "display_data"
    }
   ],
   "source": [
    "plt.plot(R, tau)\n",
    "plt.loglog()"
   ]
  },
  {
   "cell_type": "code",
   "execution_count": 78,
   "metadata": {},
   "outputs": [],
   "source": [
    "critical_time = np.sqrt(1.0/(c.G * 1E6*lcdm.critical_density(0.0)))"
   ]
  },
  {
   "cell_type": "code",
   "execution_count": 79,
   "metadata": {},
   "outputs": [],
   "source": [
    "critical_time = critical_time.to(u.yr)"
   ]
  },
  {
   "cell_type": "code",
   "execution_count": 80,
   "metadata": {},
   "outputs": [
    {
     "data": {
      "text/plain": [
       "[<matplotlib.lines.Line2D at 0x7f3e9dc0aa20>]"
      ]
     },
     "execution_count": 80,
     "metadata": {},
     "output_type": "execute_result"
    },
    {
     "data": {
      "image/png": "[encoded data removed]",
      "text/plain": [
       "<Figure size 432x288 with 1 Axes>"
      ]
     },
     "metadata": {},
     "output_type": "display_data"
    }
   ],
   "source": [
    "plt.plot(tau/critical_time)"
   ]
  },
  {
   "cell_type": "code",
   "execution_count": null,
   "metadata": {},
   "outputs": [],
   "source": []
  }
 ],
 "metadata": {
  "kernelspec": {
   "display_name": "Python 3",
   "language": "python",
   "name": "python3"
  },
  "language_info": {
   "codemirror_mode": {
    "name": "ipython",
    "version": 3
   },
   "file_extension": ".py",
   "mimetype": "text/x-python",
   "name": "python",
   "nbconvert_exporter": "python",
   "pygments_lexer": "ipython3",
   "version": "3.6.5"
  }
 },
 "nbformat": 4,
 "nbformat_minor": 2
}
